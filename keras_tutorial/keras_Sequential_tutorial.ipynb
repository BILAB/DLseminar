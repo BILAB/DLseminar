{
 "cells": [
  {
   "cell_type": "markdown",
   "metadata": {},
   "source": [
    "## keras.Sequentialを使った簡単なdeep modelの構築"
   ]
  },
  {
   "cell_type": "markdown",
   "metadata": {},
   "source": [
    "### modelの構築"
   ]
  },
  {
   "cell_type": "markdown",
   "metadata": {},
   "source": [
    "**Sequential**のインスタンスを作成することでモデルを構築することができる。importしたlayerをインスタンスの引数として与えることでモデルに層を追加することができる。\n",
    "\n",
    "layerのは次のように作成時にまとめて与えてもいいし，"
   ]
  },
  {
   "cell_type": "code",
   "execution_count": 8,
   "metadata": {},
   "outputs": [],
   "source": [
    "import keras\n",
    "from keras.models import Sequential\n",
    "from keras.layers import Dense, Activation\n",
    "\n",
    "model = Sequential([\n",
    "    Dense(32, input_shape=(784,)),\n",
    "    Activation('relu'),\n",
    "    Dense(10),\n",
    "    Activation('softmax'),\n",
    "])"
   ]
  },
  {
   "cell_type": "markdown",
   "metadata": {},
   "source": [
    "\n",
    "最初にSequentialインスタンスを作成して，**model.add**メソッドによって追加しても良い。"
   ]
  },
  {
   "cell_type": "code",
   "execution_count": 2,
   "metadata": {
    "collapsed": true
   },
   "outputs": [],
   "source": [
    "model = Sequential()\n",
    "model.add(Dense(32, input_dim=784))\n",
    "model.add(Activation('relu'))"
   ]
  },
  {
   "cell_type": "markdown",
   "metadata": {},
   "source": [
    "### shapeの指定"
   ]
  },
  {
   "cell_type": "markdown",
   "metadata": {},
   "source": [
    "入力層にはどのような形のデータが入ってくるかの情報を与えておく必要がある。入力層以外は前層の出力結果から入力の形が類推できるので指定する必要はない。\n",
    "\n",
    "- 最初の層の引数として **input_shape** を使う。例えばMNISTであれば， `input_shape=(None, 784)` とする。ここで**Noneは何らかの整数を期待する場合に使用する**。`Batch_size`を変える可能性がある時は, `None`にしておくこと推奨。`input_shape`にはタプルを与えることが期待されている。\n",
    "\n",
    "\n",
    "- FC層などのベクターを入力として期待する層は, `input_shape`の代わりに`input_dim`(ベクターの長さ)を使うことができる。モノクロ画像のように，　(batch, height, row) という形で入力が期待される層は， `input_dim` と `input_height` を引数として渡すことができる。\n",
    "\n",
    "\n",
    "- `batch_size`引数を渡すことで, バッチ数を明示的に渡すことができる。\n",
    "\n",
    "\n",
    "基本的には, **input_shape=(None, height, row, channel, ...)** の形で渡せばok"
   ]
  },
  {
   "cell_type": "markdown",
   "metadata": {},
   "source": [
    "shape指定の例。2つのコードは質的に等価である。"
   ]
  },
  {
   "cell_type": "code",
   "execution_count": 3,
   "metadata": {
    "collapsed": true
   },
   "outputs": [],
   "source": [
    "model = Sequential()\n",
    "model.add(Dense(32, input_shape=(784,)))"
   ]
  },
  {
   "cell_type": "code",
   "execution_count": 4,
   "metadata": {
    "collapsed": true
   },
   "outputs": [],
   "source": [
    "model = Sequential()\n",
    "model.add(Dense(32, input_dim=784))"
   ]
  },
  {
   "cell_type": "markdown",
   "metadata": {},
   "source": [
    "### Compile"
   ]
  },
  {
   "cell_type": "markdown",
   "metadata": {},
   "source": [
    "**compile**メソッドは, 最適化アルゴリズム, 損失関数, 評価関数の3つを指定する。\n",
    "\n",
    "\n",
    "- **最適化アルゴリズム**: `keras`によって定義されている識別子(`'rmsprop'`, `'adagrad'`など)を渡すか, `keras.Optimizer`クラスのインスタンスを与える。\n",
    "- **損失関数**: `keras`によって定義されている識別子(`'categorical_crossentropy'`, `'mse'`など)を渡すか, 目的関数を自分で定義して渡す。\n",
    "- **評価関数**: `keras`によって定義されている識別子(`metrics=['accuracy']`など)を渡すか, 評価関数を自分で定義して渡す。"
   ]
  },
  {
   "cell_type": "code",
   "execution_count": 5,
   "metadata": {
    "collapsed": true
   },
   "outputs": [],
   "source": [
    "# マルチクラス分類問題の場合\n",
    "model.compile(optimizer='rmsprop',\n",
    "              loss='categorical_crossentropy',\n",
    "              metrics=['accuracy'])\n",
    "\n",
    "# 2値分類問題の場合\n",
    "model.compile(optimizer='rmsprop',\n",
    "              loss='binary_crossentropy',\n",
    "              metrics=['accuracy'])\n",
    "\n",
    "# 平均二乗誤差を最小化する回帰問題の場合\n",
    "model.compile(optimizer='rmsprop',\n",
    "              loss='mse')\n",
    "\n",
    "# 独自定義の評価関数を定義\n",
    "import keras.backend as K\n",
    "\n",
    "def mean_pred(y_true, y_pred):\n",
    "    return K.mean(y_pred)\n",
    "\n",
    "model.compile(optimizer='rmsprop',\n",
    "              loss='binary_crossentropy',\n",
    "              metrics=['accuracy', mean_pred])"
   ]
  },
  {
   "cell_type": "markdown",
   "metadata": {},
   "source": [
    "### トレーニング"
   ]
  },
  {
   "cell_type": "markdown",
   "metadata": {},
   "source": [
    "kerasはnp.arrayを入力データ及びラベルデータとして受け取って訓練を行う。この時は**fit**メソッドを使う。fitの引数は次の通り。\n",
    "\n",
    "\n",
    "- **x**: 入力データ。`np.array`の形で渡す。\n",
    "- **y**: ラベルデータ。`np.array`の形で渡す。\n",
    "- **batch_size**: 整数スカラー。一度に訓練するサンプル数を指定する。メモリの制約によるが, 大きい方が勾配ノイズが少なくなる。\n",
    "- **epochs**: 整数スカラー。トレーニングデータ全体を何回なめるかを指定する。\n",
    "- **verbose**: 訓練中にログを表示するかのオプション。0で表示を切り, 1でプログレスバー表示, 2で1epochごとにログ表示。\n",
    "- **callbacks**: `keras.callbacks.Callback`のインスタンスをリストで渡すことで, 訓練中のモデルパラメータの保存やTensorboardの出力を得ることができる。`Callback`インスタンスについては, (https://keras.io/ja/callbacks/) を参照。\n",
    "- **validation_split**: 検証用データとして残しておくデータの割合を指定する。(0, 1)。\n",
    "- **validation_data**: 検証用データとして使うデータのタプル。こちらが適用される時は `validation_split`は無視される。\n",
    "- **shuffle**: エポックごとにデータをシャッフルするかをboolで与える。HDF5データを入力として与える場合は, `'batch'`という引数を渡すことで, バッチサイズのチャンク内でシャッフルすることができる。\n",
    "- **class_weight**: ディクショナリ形式でクラスごとの重みを格納する。訓練中に損失関数をスケーリングするために使うらしいがよくわからない。\n",
    "- **sample_weight**: 訓練中に使用するサンプルの重み付けを行う。入力データと同じ長さの`np.array`を与える。\n",
    "- **initial_epoch**: 訓練開始時のepochを指定する。訓練再開時に使用するオプション。"
   ]
  },
  {
   "cell_type": "markdown",
   "metadata": {},
   "source": [
    "`fit`を使ってモデルを組んだ時の実装例。"
   ]
  },
  {
   "cell_type": "code",
   "execution_count": 6,
   "metadata": {},
   "outputs": [
    {
     "name": "stdout",
     "output_type": "stream",
     "text": [
      "Epoch 1/10\n",
      "1000/1000 [==============================] - 0s - loss: 0.7178 - acc: 0.4820     \n",
      "Epoch 2/10\n",
      "1000/1000 [==============================] - 0s - loss: 0.7068 - acc: 0.5040     \n",
      "Epoch 3/10\n",
      "1000/1000 [==============================] - 0s - loss: 0.6989 - acc: 0.5160     - ETA: 0s - loss: 0.6934 - acc: 0.53\n",
      "Epoch 4/10\n",
      "1000/1000 [==============================] - 0s - loss: 0.6949 - acc: 0.5260     \n",
      "Epoch 5/10\n",
      "1000/1000 [==============================] - 0s - loss: 0.6865 - acc: 0.5480     \n",
      "Epoch 6/10\n",
      "1000/1000 [==============================] - 0s - loss: 0.6812 - acc: 0.5660     \n",
      "Epoch 7/10\n",
      "1000/1000 [==============================] - 0s - loss: 0.6776 - acc: 0.5580     \n",
      "Epoch 8/10\n",
      "1000/1000 [==============================] - 0s - loss: 0.6737 - acc: 0.5700     \n",
      "Epoch 9/10\n",
      "1000/1000 [==============================] - 0s - loss: 0.6684 - acc: 0.5850     \n",
      "Epoch 10/10\n",
      "1000/1000 [==============================] - 0s - loss: 0.6623 - acc: 0.6240     \n"
     ]
    },
    {
     "data": {
      "text/plain": [
       "<keras.callbacks.History at 0x12489e400>"
      ]
     },
     "execution_count": 6,
     "metadata": {},
     "output_type": "execute_result"
    }
   ],
   "source": [
    "# 1つの入力から2クラス分類をするモデルにおいては\n",
    "\n",
    "model = Sequential()\n",
    "model.add(Dense(32, activation='relu', input_dim=100))\n",
    "model.add(Dense(1, activation='sigmoid'))\n",
    "model.compile(optimizer='rmsprop',\n",
    "              loss='binary_crossentropy',\n",
    "              metrics=['accuracy'])\n",
    "\n",
    "# ダミーデータの作成\n",
    "import numpy as np\n",
    "data = np.random.random((1000, 100))\n",
    "labels = np.random.randint(2, size=(1000, 1))\n",
    "\n",
    "# 各イテレーションのバッチサイズを32で学習を行なう\n",
    "model.fit(data, labels, epochs=10, batch_size=32)"
   ]
  },
  {
   "cell_type": "code",
   "execution_count": 9,
   "metadata": {},
   "outputs": [
    {
     "name": "stdout",
     "output_type": "stream",
     "text": [
      "Epoch 1/10\n",
      "1000/1000 [==============================] - 0s - loss: 2.3372 - acc: 0.1200     \n",
      "Epoch 2/10\n",
      "1000/1000 [==============================] - 0s - loss: 2.3058 - acc: 0.1130     \n",
      "Epoch 3/10\n",
      "1000/1000 [==============================] - 0s - loss: 2.2965 - acc: 0.1220     \n",
      "Epoch 4/10\n",
      "1000/1000 [==============================] - 0s - loss: 2.2867 - acc: 0.1340     \n",
      "Epoch 5/10\n",
      "1000/1000 [==============================] - 0s - loss: 2.2781 - acc: 0.1450     \n",
      "Epoch 6/10\n",
      "1000/1000 [==============================] - 0s - loss: 2.2719 - acc: 0.1520     \n",
      "Epoch 7/10\n",
      "1000/1000 [==============================] - 0s - loss: 2.2644 - acc: 0.1610     \n",
      "Epoch 8/10\n",
      "1000/1000 [==============================] - 0s - loss: 2.2551 - acc: 0.1690     \n",
      "Epoch 9/10\n",
      "1000/1000 [==============================] - 0s - loss: 2.2469 - acc: 0.1770     \n",
      "Epoch 10/10\n",
      "1000/1000 [==============================] - 0s - loss: 2.2351 - acc: 0.1740     \n"
     ]
    },
    {
     "data": {
      "text/plain": [
       "<keras.callbacks.History at 0x124ce3b00>"
      ]
     },
     "execution_count": 9,
     "metadata": {},
     "output_type": "execute_result"
    }
   ],
   "source": [
    "# 1つの入力から10クラスの分類を行なう場合について（カテゴリ分類）\n",
    "\n",
    "model = Sequential()\n",
    "model.add(Dense(32, activation='relu', input_dim=100))\n",
    "model.add(Dense(10, activation='softmax'))\n",
    "model.compile(optimizer='rmsprop',\n",
    "              loss='categorical_crossentropy',\n",
    "              metrics=['accuracy'])\n",
    "\n",
    "# ダミーデータ作成\n",
    "import numpy as np\n",
    "data = np.random.random((1000, 100))\n",
    "labels = np.random.randint(10, size=(1000, 1))\n",
    "\n",
    "# ラベルデータをカテゴリの1-hotベクトルにエンコードする\n",
    "one_hot_labels = keras.utils.to_categorical(labels, num_classes=10)\n",
    "\n",
    "# 各イテレーションのバッチサイズを32で学習を行なう\n",
    "model.fit(data, one_hot_labels, epochs=10, batch_size=32)"
   ]
  },
  {
   "cell_type": "code",
   "execution_count": null,
   "metadata": {
    "collapsed": true
   },
   "outputs": [],
   "source": []
  }
 ],
 "metadata": {
  "kernelspec": {
   "display_name": "Python 3",
   "language": "python",
   "name": "python3"
  },
  "language_info": {
   "codemirror_mode": {
    "name": "ipython",
    "version": 3
   },
   "file_extension": ".py",
   "mimetype": "text/x-python",
   "name": "python",
   "nbconvert_exporter": "python",
   "pygments_lexer": "ipython3",
   "version": "3.5.4"
  }
 },
 "nbformat": 4,
 "nbformat_minor": 2
}
